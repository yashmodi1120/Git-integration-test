{
  "cells": [
    {
      "cell_type": "code",
      "source": [
        "pip freeze"
      ],
      "outputs": [
        {
          "output_type": "stream",
          "name": "stdout",
          "text": "adal==1.2.7\r\naiosignal==1.3.1\r\nalembic==1.11.1\r\nargcomplete==2.1.2\r\nasttokens @ file:///home/conda/feedstock_root/build_artifacts/asttokens_1670263926556/work\r\nattrs==23.1.0\r\nazure-ai-ml==1.8.0\r\nazure-common==1.1.28\r\nazure-core==1.27.1\r\nazure-graphrbac==0.61.1\r\nazure-identity==1.13.0\r\nazure-mgmt-authorization==3.0.0\r\nazure-mgmt-containerregistry==10.1.0\r\nazure-mgmt-core==1.4.0\r\nazure-mgmt-keyvault==10.2.2\r\nazure-mgmt-resource==22.0.0\r\nazure-mgmt-storage==21.0.0\r\nazure-storage-blob==12.16.0\r\nazure-storage-file-datalake==12.11.0\r\nazure-storage-file-share==12.12.0\r\nazureml-core==1.51.0.post1\r\nazureml-dataprep==4.11.3\r\nazureml-dataprep-native==38.0.0\r\nazureml-dataprep-rslex==2.18.3\r\nazureml-fsspec==1.1.0\r\nazureml-mlflow==1.51.0\r\nbackcall @ file:///home/conda/feedstock_root/build_artifacts/backcall_1592338393461/work\r\nbackports.functools-lru-cache @ file:///home/conda/feedstock_root/build_artifacts/backports.functools_lru_cache_1618230623929/work\r\nbackports.tempfile==1.0\r\nbackports.weakref==1.0.post1\r\nbcrypt==4.0.1\r\nblinker==1.6.2\r\ncachetools==5.3.1\r\ncertifi==2023.5.7\r\ncffi==1.15.1\r\ncharset-normalizer==3.1.0\r\nclick==8.0.4\r\ncloudpickle==2.2.1\r\ncolorama==0.4.6\r\ncontextlib2==21.6.0\r\ncontourpy==1.1.0\r\ncryptography==41.0.1\r\ncycler==0.11.0\r\nCython==0.29.35\r\ndatabricks-cli==0.17.7\r\ndebugpy @ file:///home/builder/ci_310/debugpy_1640789504635/work\r\ndecorator @ file:///home/conda/feedstock_root/build_artifacts/decorator_1641555617451/work\r\ndistlib==0.3.6\r\ndistro==1.8.0\r\ndocker==6.1.3\r\ndotnetcore2==3.1.23\r\nentrypoints @ file:///home/conda/feedstock_root/build_artifacts/entrypoints_1643888246732/work\r\nexecuting @ file:///home/conda/feedstock_root/build_artifacts/executing_1667317341051/work\r\nfilelock==3.12.2\r\nFlask==2.3.2\r\nfonttools==4.40.0\r\nfrozenlist==1.3.3\r\nfsspec==2023.6.0\r\ngitdb==4.0.10\r\nGitPython==3.1.31\r\ngoogle-api-core==2.11.1\r\ngoogle-auth==2.20.0\r\ngoogleapis-common-protos==1.59.1\r\ngreenlet==2.0.2\r\ngrpcio==1.43.0\r\ngunicorn==20.1.0\r\nhumanfriendly==10.0\r\nidna==3.4\r\nimageio==2.31.1\r\nimportlib-metadata==6.7.0\r\nipykernel @ file:///home/conda/feedstock_root/build_artifacts/ipykernel_1655369107642/work\r\nipython @ file:///home/conda/feedstock_root/build_artifacts/ipython_1685727741709/work\r\nisodate==0.6.1\r\nitsdangerous==2.1.2\r\njedi @ file:///home/conda/feedstock_root/build_artifacts/jedi_1669134318875/work\r\njeepney==0.8.0\r\nJinja2==3.1.2\r\njmespath==1.0.1\r\njoblib==1.2.0\r\njsonpickle==3.0.1\r\njsonschema==4.17.3\r\njupyter-client @ file:///home/conda/feedstock_root/build_artifacts/jupyter_client_1654730843242/work\r\njupyter_core @ file:///home/conda/feedstock_root/build_artifacts/jupyter_core_1686775611663/work\r\nkiwisolver==1.4.4\r\nknack==0.10.1\r\nlazy_loader==0.2\r\nMako==1.2.4\r\nMarkdown==3.4.3\r\nMarkupSafe==2.1.3\r\nmarshmallow==3.19.0\r\nmatplotlib==3.7.1\r\nmatplotlib-inline @ file:///home/conda/feedstock_root/build_artifacts/matplotlib-inline_1660814786464/work\r\nmldesigner==0.1.0b13\r\nmlflow==2.4.1\r\nmlflow-skinny==2.4.1\r\nmltable==1.4.1\r\nmsal==1.22.0\r\nmsal-extensions==1.0.0\r\nmsgpack==1.0.5\r\nmsrest==0.7.1\r\nmsrestazure==0.6.4\r\nndg-httpsclient==0.5.1\r\nnest-asyncio @ file:///home/conda/feedstock_root/build_artifacts/nest-asyncio_1664684991461/work\r\nnetworkx==3.1\r\nnumpy==1.25.0\r\noauthlib==3.2.2\r\nopencensus==0.11.2\r\nopencensus-context==0.1.3\r\nopencensus-ext-azure==1.1.9\r\npackaging==23.0\r\npandas==2.0.2\r\nparamiko==3.2.0\r\nparso @ file:///home/conda/feedstock_root/build_artifacts/parso_1638334955874/work\r\npathspec==0.11.1\r\npexpect @ file:///home/conda/feedstock_root/build_artifacts/pexpect_1667297516076/work\r\npickleshare @ file:///home/conda/feedstock_root/build_artifacts/pickleshare_1602536217715/work\r\nPillow==9.5.0\r\npkginfo==1.9.6\r\nplatformdirs @ file:///home/conda/feedstock_root/build_artifacts/platformdirs_1687097136512/work\r\nportalocker==2.7.0\r\nprompt-toolkit @ file:///home/conda/feedstock_root/build_artifacts/prompt-toolkit_1677600924538/work\r\nprotobuf==3.20.3\r\npsutil @ file:///opt/conda/conda-bld/psutil_1656431268089/work\r\nptyprocess @ file:///home/conda/feedstock_root/build_artifacts/ptyprocess_1609419310487/work/dist/ptyprocess-0.7.0-py2.py3-none-any.whl\r\npure-eval @ file:///home/conda/feedstock_root/build_artifacts/pure_eval_1642875951954/work\r\npyarrow==12.0.1\r\npyasn1==0.5.0\r\npyasn1-modules==0.3.0\r\npycparser==2.21\r\npydash==5.1.2\r\nPygments @ file:///home/conda/feedstock_root/build_artifacts/pygments_1681904169130/work\r\nPyJWT==2.7.0\r\nPyNaCl==1.5.0\r\npyOpenSSL==23.2.0\r\npyparsing==3.1.0\r\npyrsistent==0.19.3\r\nPySocks==1.7.1\r\npython-dateutil @ file:///home/conda/feedstock_root/build_artifacts/python-dateutil_1626286286081/work\r\npytz==2023.3\r\nPyWavelets==1.4.1\r\nPyYAML==6.0\r\npyzmq @ file:///croot/pyzmq_1686601365461/work\r\nquerystring-parser==1.2.4\r\nray==2.0.0\r\nrequests==2.31.0\r\nrequests-oauthlib==1.3.1\r\nrsa==4.9\r\nscikit-image==0.21.0\r\nscikit-learn==1.2.2\r\nscipy==1.10.1\r\nSecretStorage==3.3.3\r\nsix @ file:///home/conda/feedstock_root/build_artifacts/six_1620240208055/work\r\nsmmap==5.0.0\r\nSQLAlchemy==2.0.16\r\nsqlparse==0.4.4\r\nstack-data @ file:///home/conda/feedstock_root/build_artifacts/stack_data_1669632077133/work\r\nstrictyaml==1.7.3\r\ntabulate==0.9.0\r\nthreadpoolctl==3.1.0\r\ntifffile==2023.4.12\r\ntornado @ file:///home/conda/feedstock_root/build_artifacts/tornado_1648827254365/work\r\ntqdm==4.65.0\r\ntraitlets @ file:///home/conda/feedstock_root/build_artifacts/traitlets_1675110562325/work\r\ntyping_extensions @ file:///home/conda/feedstock_root/build_artifacts/typing_extensions_1685704949284/work\r\ntzdata==2023.3\r\nurllib3==1.26.16\r\nvirtualenv==20.23.1\r\nwcwidth @ file:///home/conda/feedstock_root/build_artifacts/wcwidth_1673864653149/work\r\nwebsocket-client==1.6.0\r\nWerkzeug==2.3.6\r\nzipp==3.15.0\r\nNote: you may need to restart the kernel to use updated packages.\n"
        }
      ],
      "execution_count": 1,
      "metadata": {
        "gather": {
          "logged": 1711259411560
        }
      }
    }
  ],
  "metadata": {
    "kernelspec": {
      "name": "python310-sdkv2",
      "language": "python",
      "display_name": "Python 3.10 - SDK v2"
    },
    "language_info": {
      "name": "python",
      "version": "3.10.11",
      "mimetype": "text/x-python",
      "codemirror_mode": {
        "name": "ipython",
        "version": 3
      },
      "pygments_lexer": "ipython3",
      "nbconvert_exporter": "python",
      "file_extension": ".py"
    },
    "microsoft": {
      "ms_spell_check": {
        "ms_spell_check_language": "en"
      }
    },
    "nteract": {
      "version": "nteract-front-end@1.0.0"
    },
    "kernel_info": {
      "name": "python310-sdkv2"
    }
  },
  "nbformat": 4,
  "nbformat_minor": 2
}